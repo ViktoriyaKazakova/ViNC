{
 "cells": [
  {
   "cell_type": "markdown",
   "metadata": {},
   "source": [
    "1. Попробуйте изменить параметры нейронной сети работающей с датасетом imdb либо нейронной сети работающей airline-passengers(она прилагается вместе с датасетом к уроку в виде отдельного скрипта) так, чтобы улучшить ее точность. Приложите анализ."
   ]
  },
  {
   "cell_type": "code",
   "execution_count": 19,
   "metadata": {},
   "outputs": [],
   "source": [
    "from __future__ import print_function\n",
    "from keras.preprocessing import sequence\n",
    "from keras.models import Sequential\n",
    "from keras.layers import Dense, Embedding, Activation\n",
    "from keras.layers import LSTM\n",
    "from keras.datasets import imdb\n",
    "\n",
    "import numpy as np\n",
    "from keras.layers.recurrent import SimpleRNN, LSTM, GRU\n"
   ]
  },
  {
   "cell_type": "code",
   "execution_count": 14,
   "metadata": {},
   "outputs": [],
   "source": [
    "max_features = 20000\n",
    "# обрезание текстов после данного количества слов (среди top max_features наиболее используемые слова)\n",
    "maxlen = 90\n",
    "batch_size = 20 # увеличьте значение для ускорения обучения"
   ]
  },
  {
   "cell_type": "code",
   "execution_count": 15,
   "metadata": {},
   "outputs": [
    {
     "name": "stdout",
     "output_type": "stream",
     "text": [
      "Загрузка данных...\n",
      "25000 тренировочные последовательности\n",
      "25000 тестовые последовательности\n"
     ]
    }
   ],
   "source": [
    "print('Загрузка данных...')\n",
    "(x_train, y_train), (x_test, y_test) = imdb.load_data(num_words=max_features)\n",
    "print(len(x_train), 'тренировочные последовательности')\n",
    "print(len(x_test), 'тестовые последовательности')"
   ]
  },
  {
   "cell_type": "code",
   "execution_count": 16,
   "metadata": {},
   "outputs": [
    {
     "name": "stdout",
     "output_type": "stream",
     "text": [
      "Pad последовательности (примеров в x единицу времени)\n",
      "x_train shape: (25000, 90)\n",
      "x_test shape: (25000, 90)\n"
     ]
    }
   ],
   "source": [
    "print('Pad последовательности (примеров в x единицу времени)')\n",
    "x_train = sequence.pad_sequences(x_train, maxlen=maxlen)\n",
    "x_test = sequence.pad_sequences(x_test, maxlen=maxlen)\n",
    "print('x_train shape:', x_train.shape)\n",
    "print('x_test shape:', x_test.shape)"
   ]
  },
  {
   "cell_type": "code",
   "execution_count": 17,
   "metadata": {},
   "outputs": [
    {
     "name": "stdout",
     "output_type": "stream",
     "text": [
      "Построение модели...\n"
     ]
    }
   ],
   "source": [
    "print('Построение модели...')\n",
    "model = Sequential()\n",
    "model.add(Embedding(max_features, 128))\n",
    "model.add(LSTM(128, dropout=0.2, recurrent_dropout=0.2))\n",
    "model.add(Dense(1, activation='sigmoid'))\n",
    "\n",
    "# стоит попробовать использовать другие оптимайзер и другие конфигурации оптимайзеров \n",
    "model.compile(loss='binary_crossentropy',\n",
    "              optimizer='adam',\n",
    "              metrics=['accuracy'])"
   ]
  },
  {
   "cell_type": "code",
   "execution_count": 18,
   "metadata": {},
   "outputs": [
    {
     "name": "stdout",
     "output_type": "stream",
     "text": [
      "Процесс обучения...\n"
     ]
    },
    {
     "name": "stderr",
     "output_type": "stream",
     "text": [
      "D:\\Prog\\Anaconda3\\envs\\tensorflow\\lib\\site-packages\\tensorflow_core\\python\\framework\\indexed_slices.py:433: UserWarning: Converting sparse IndexedSlices to a dense Tensor of unknown shape. This may consume a large amount of memory.\n",
      "  \"Converting sparse IndexedSlices to a dense Tensor of unknown shape. \"\n"
     ]
    },
    {
     "name": "stdout",
     "output_type": "stream",
     "text": [
      "Train on 25000 samples, validate on 25000 samples\n",
      "Epoch 1/2\n",
      "25000/25000 [==============================] - 133s 5ms/step - loss: 0.4521 - accuracy: 0.7884 - val_loss: 0.4190 - val_accuracy: 0.8088\n",
      "Epoch 2/2\n",
      "25000/25000 [==============================] - 137s 5ms/step - loss: 0.2966 - accuracy: 0.8798 - val_loss: 0.3909 - val_accuracy: 0.8358\n",
      "25000/25000 [==============================] - 23s 901us/step\n",
      "Результат при тестировании: 0.3909497666180134\n",
      "Тестовая точность: 0.8357599973678589\n"
     ]
    }
   ],
   "source": [
    "print('Процесс обучения...')\n",
    "model.fit(x_train, y_train,\n",
    "          batch_size=batch_size,\n",
    "          epochs=2, # увеличьте при необходимости\n",
    "          validation_data=(x_test, y_test))\n",
    "score, acc = model.evaluate(x_test, y_test,\n",
    "                            batch_size=batch_size)\n",
    "print('Результат при тестировании:', score)\n",
    "print('Тестовая точность:', acc)"
   ]
  },
  {
   "cell_type": "markdown",
   "metadata": {},
   "source": [
    "Оригинальные параметры\n",
    "Результат при тестировании: 0.39250763788819315\n",
    "Тестовая точность: 0.8256000280380249\n",
    "\n",
    "Изменены batch size (20), maxlen (90), epochs=3\n",
    "Результат при тестировании: 0.37212768812179564\n",
    "Тестовая точность: 0.8463199734687805\n",
    "\n",
    "Изменены epochs=2\n",
    "Результат при тестировании: 0.3909497666180134\n",
    "Тестовая точность: 0.8357599973678589"
   ]
  },
  {
   "cell_type": "markdown",
   "metadata": {},
   "source": [
    "Очевиднее всего влияет увеличение эпох"
   ]
  },
  {
   "cell_type": "markdown",
   "metadata": {},
   "source": [
    "2. Попробуйте изменить параметры нейронной сети генерирующий текст таким образом, чтобы добиться генерации как можно более осмысленного текста. Пришлите лучший получившейся у вас текст и опишите, что вы предприняли, чтобы его получить. Можно использовать текст другого прозведения"
   ]
  },
  {
   "cell_type": "code",
   "execution_count": 21,
   "metadata": {},
   "outputs": [],
   "source": [
    "# построчное чтение из примера с текстом \n",
    "with open(\"alice_in_wonderland.txt\", 'rb') as _in:\n",
    "    lines = []\n",
    "    for line in _in:\n",
    "        line = line.strip().lower().decode(\"ascii\", \"ignore\")\n",
    "        if len(line) == 0:\n",
    "            continue\n",
    "        lines.append(line)\n",
    "text = \" \".join(lines)\n",
    "chars = set([c for c in text])\n",
    "nb_chars = len(chars)"
   ]
  },
  {
   "cell_type": "code",
   "execution_count": 22,
   "metadata": {},
   "outputs": [],
   "source": [
    "# создание индекса символов и reverse mapping чтобы передвигаться между значениями numerical\n",
    "# ID and a specific character. The numerical ID will correspond to a column\n",
    "# ID и определенный символ. Numerical ID будет соответсвовать колонке\n",
    "# число при использовании one-hot кодировки для представление входов символов\n",
    "char2index = {c: i for i, c in enumerate(chars)}\n",
    "index2char = {i: c for i, c in enumerate(chars)}\n",
    "\n",
    "# для удобства выберете фиксированную длину последовательность 10 символов \n",
    "SEQLEN, STEP = 10, 1\n",
    "input_chars, label_chars = [], []\n",
    "\n",
    "# конвертация data в серии разных SEQLEN-length субпоследовательностей\n",
    "for i in range(0, len(text) - SEQLEN, STEP):\n",
    "    input_chars.append(text[i: i + SEQLEN])\n",
    "    label_chars.append(text[i + SEQLEN])"
   ]
  },
  {
   "cell_type": "code",
   "execution_count": 23,
   "metadata": {},
   "outputs": [],
   "source": [
    "# Вычисление one-hot encoding входных последовательностей X и следующего символа (the label) y\n",
    "\n",
    "X = np.zeros((len(input_chars), SEQLEN, nb_chars), dtype=np.bool)\n",
    "y = np.zeros((len(input_chars), nb_chars), dtype=np.bool)\n",
    "for i, input_char in enumerate(input_chars):\n",
    "    for j, ch in enumerate(input_char):\n",
    "        X[i, j, char2index[ch]] = 1\n",
    "    y[i, char2index[label_chars[i]]] = 1"
   ]
  },
  {
   "cell_type": "code",
   "execution_count": 30,
   "metadata": {},
   "outputs": [],
   "source": [
    "# установка ряда метапамертров  для нейронной сети и процесса тренировки\n",
    "BATCH_SIZE, HIDDEN_SIZE = 256, 256\n",
    "NUM_ITERATIONS = 50 # 25 должно быть достаточно\n",
    "NUM_EPOCHS_PER_ITERATION = 1\n",
    "NUM_PREDS_PER_EPOCH = 100"
   ]
  },
  {
   "cell_type": "code",
   "execution_count": 31,
   "metadata": {},
   "outputs": [],
   "source": [
    "\n",
    "'''\n",
    "Создание очень простой рекуррентной нейронной сети. В ней будет один реккурентный закодированный входной слой. За ним последует полносвязный слой связанный с набором возможных следующих символов, которые конвертированы в вероятностные результаты через стандартную softmax активацию с multi-class cross-encoding loss функцию ссылающуются на предсказание one-hot encoding лейбл символа\n",
    "'''\n",
    "\n",
    "model = Sequential()\n",
    "model.add(\n",
    "    LSTM(  # вы можете изменить эту часть на LSTM или SimpleRNN, чтобы попробовать альтернативы\n",
    "        HIDDEN_SIZE,\n",
    "        return_sequences=False,\n",
    "        input_shape=(SEQLEN, nb_chars),\n",
    "        unroll=True\n",
    "    )\n",
    ")\n",
    "model.add(Dense(nb_chars))\n",
    "model.add(Activation(\"softmax\"))\n",
    "model.compile(loss=\"categorical_crossentropy\", optimizer=\"rmsprop\")\n"
   ]
  },
  {
   "cell_type": "code",
   "execution_count": 32,
   "metadata": {},
   "outputs": [
    {
     "name": "stdout",
     "output_type": "stream",
     "text": [
      "==================================================\n",
      "Итерация #: 0\n",
      "Epoch 1/1\n",
      "143504/143504 [==============================] - 46s 317us/step - loss: 2.5250\n",
      "Генерация из посева: l just exp\n",
      "l just expere the said the said the said the said the said the said the said the said the said the said the sa==================================================\n",
      "Итерация #: 1\n",
      "Epoch 1/1\n",
      "143504/143504 [==============================] - 48s 331us/step - loss: 2.0454\n",
      "Генерация из посева: before he \n",
      "before he the was the was the was the was the was the was the was the was the was the was the was the was the ==================================================\n",
      "Итерация #: 2\n",
      "Epoch 1/1\n",
      "143504/143504 [==============================] - 48s 331us/step - loss: 1.8421\n",
      "Генерация из посева: uously.  `\n",
      "uously.  `i dould the gryphon and and the gryphon and and the gryphon and and the gryphon and and the gryphon ==================================================\n",
      "Итерация #: 3\n",
      "Epoch 1/1\n",
      "143504/143504 [==============================] - 48s 335us/step - loss: 1.7041\n",
      "Генерация из посева: where did \n",
      "where did the cater all the door and the cater all the door and the cater all the door and the cater all the d==================================================\n",
      "Итерация #: 4\n",
      "Epoch 1/1\n",
      "143504/143504 [==============================] - 48s 333us/step - loss: 1.5989\n",
      "Генерация из посева: hinking it\n",
      "hinking it and she was not in a sound the cours, and the mock turtle some the was so down the wish a tore the ==================================================\n",
      "Итерация #: 5\n",
      "Epoch 1/1\n",
      "143504/143504 [==============================] - 49s 342us/step - loss: 1.5113\n",
      "Генерация из посева: ustomed to\n",
      "ustomed to herself `the door alice to herself `the door alice to herself `the door alice to herself `the door ==================================================\n",
      "Итерация #: 6\n",
      "Epoch 1/1\n",
      "143504/143504 [==============================] - 48s 334us/step - loss: 1.4369\n",
      "Генерация из посева: he dormous\n",
      "he dormouse to be a great herself and the windeed the windeed the windeed the windeed the windeed the windeed ==================================================\n",
      "Итерация #: 7\n",
      "Epoch 1/1\n",
      "143504/143504 [==============================] - 48s 338us/step - loss: 1.3719\n",
      "Генерация из посева:  not to be\n",
      " not to be a lottle to be a lottle to be a lottle to be a lottle to be a lottle to be a lottle to be a lottle ==================================================\n",
      "Итерация #: 8\n",
      "Epoch 1/1\n",
      "143504/143504 [==============================] - 48s 335us/step - loss: 1.3136\n",
      "Генерация из посева: dea what y\n",
      "dea what you mane of the soldiers and the more to see it was a little she had not a to to be the one of the so==================================================\n",
      "Итерация #: 9\n",
      "Epoch 1/1\n",
      "143504/143504 [==============================] - 48s 335us/step - loss: 1.2619\n",
      "Генерация из посева: oors all r\n",
      "oors all round and the thing is a selper the rabbit something of the suches and go speaking and a large patter==================================================\n",
      "Итерация #: 10\n",
      "Epoch 1/1\n",
      "143504/143504 [==============================] - 48s 337us/step - loss: 1.2135\n",
      "Генерация из посева: ng had hap\n",
      "ng had happened herself some of the tome of the tome of the tome of the tome of the tome of the tome of the to==================================================\n",
      "Итерация #: 11\n",
      "Epoch 1/1\n",
      "143504/143504 [==============================] - 49s 343us/step - loss: 1.1686\n",
      "Генерация из посева: its head. \n",
      "its head.  `i don't know it would not a tong the grown which the gryphon and a shall remember for a minute or ==================================================\n",
      "Итерация #: 12\n",
      "Epoch 1/1\n",
      "143504/143504 [==============================] - 48s 338us/step - loss: 1.1262\n",
      "Генерация из посева: self, and \n",
      "self, and the mouse with the bottle she know what they were all marned that she was not a bit looking at the s==================================================\n",
      "Итерация #: 13\n",
      "Epoch 1/1\n",
      "143504/143504 [==============================] - 48s 333us/step - loss: 1.0845\n",
      "Генерация из посева: ars `curio\n",
      "ars `curious to alice, `i don't know what they were now and then alice had not got up and dryplied very soon f==================================================\n",
      "Итерация #: 14\n",
      "Epoch 1/1\n",
      "143504/143504 [==============================] - 48s 337us/step - loss: 1.0442\n",
      "Генерация из посева: e:  `tell \n",
      "e:  `tell her soon made out the way the dormouse shook its head mouse, that it was a little she was appeared t==================================================\n",
      "Итерация #: 15\n",
      "Epoch 1/1\n",
      "143504/143504 [==============================] - 48s 332us/step - loss: 1.00663s -\n",
      "Генерация из посева:  said to t\n",
      " said to the door, and the pigeon the bling and trees the court, and then the white rabbit as he was now about==================================================\n",
      "Итерация #: 16\n",
      "Epoch 1/1\n",
      "143504/143504 [==============================] - 48s 337us/step - loss: 0.9689\n",
      "Генерация из посева:  crimson v\n",
      " crimson veny difficulty was, that it was a little shriek of the gryphon said the caterpillar took the hookeh ==================================================\n",
      "Итерация #: 17\n",
      "Epoch 1/1\n",
      "143504/143504 [==============================] - 48s 337us/step - loss: 0.9317\n",
      "Генерация из посева: uld grin.'\n",
      "uld grin.' `that's all mone of the sea--' `the parryow ond that she was quite silent, and this with one finger==================================================\n",
      "Итерация #: 18\n",
      "Epoch 1/1\n",
      "143504/143504 [==============================] - 49s 338us/step - loss: 0.8954\n",
      "Генерация из посева: ay through\n",
      "ay through the door, she came upon a little timidly, and the white rabbit was silliers and she crussuded at th==================================================\n",
      "Итерация #: 19\n",
      "Epoch 1/1\n",
      "143504/143504 [==============================] - 48s 337us/step - loss: 0.8602\n",
      "Генерация из посева: er, listen\n",
      "er, listening in it, and then alice heard it to be treated with seems to listen to mean when i got up the long==================================================\n",
      "Итерация #: 20\n",
      "Epoch 1/1\n",
      "143504/143504 [==============================] - 48s 337us/step - loss: 0.8263\n",
      "Генерация из посева:  `a likely\n",
      " `a likely story indeed at the mouse was silent. `come, i'll trome of the eldesting had to do shail so notice ==================================================\n",
      "Итерация #: 21\n",
      "Epoch 1/1\n",
      "143504/143504 [==============================] - 48s 338us/step - loss: 0.7938\n",
      "Генерация из посева:  be mabel,\n",
      " be mabel, for it to said the king said to the jury, of course, and then a row of long an old that more than a==================================================\n",
      "Итерация #: 22\n",
      "Epoch 1/1\n",
      "143504/143504 [==============================] - 49s 339us/step - loss: 0.7610\n",
      "Генерация из посева: ely garden\n",
      "ely garden. `it was a curious dream lerver of a leagr, in a little shriek and a door bear of course,' the gryp==================================================\n",
      "Итерация #: 23\n",
      "Epoch 1/1\n",
      "143504/143504 [==============================] - 50s 349us/step - loss: 0.7308\n",
      "Генерация из посева: e distance\n",
      "e distance, and the party were silent when i say as felly shat down, and the party were silent when i say as f==================================================\n",
      "Итерация #: 24\n",
      "Epoch 1/1\n",
      "143504/143504 [==============================] - 49s 344us/step - loss: 0.7004\n",
      "Генерация из посева: hile she r\n",
      "hile she remembered that i've got to get her head to find that she had this fit as you say things are mack the==================================================\n",
      "Итерация #: 25\n",
      "Epoch 1/1\n",
      "143504/143504 [==============================] - 50s 348us/step - loss: 0.6715\n",
      "Генерация из посева: use go on \n",
      "use go on it was a little bit, and she went in all the pigeon in a mournful tone, `as it down, it is all the j==================================================\n",
      "Итерация #: 26\n",
      "Epoch 1/1\n",
      "143504/143504 [==============================] - 50s 345us/step - loss: 0.6441\n",
      "Генерация из посева: ouse, and \n",
      "ouse, and went on ander with a sigh:  `it's the stupidest were nowneed had to do be offerfuled he wall the duc==================================================\n",
      "Итерация #: 27\n",
      "Epoch 1/1\n",
      "143504/143504 [==============================] - 49s 345us/step - loss: 0.6189\n",
      "Генерация из посева: alice wait\n"
     ]
    },
    {
     "name": "stdout",
     "output_type": "stream",
     "text": [
      "alice waited to see that she was to sey a whiting to its feet, `i might as well say,' added the gryphon went o==================================================\n",
      "Итерация #: 28\n",
      "Epoch 1/1\n",
      "143504/143504 [==============================] - 48s 332us/step - loss: 0.5950\n",
      "Генерация из посева: rd-mine ne\n",
      "rd-mine near her face, and was in the schoolroom, and repeat semied there was nothing of the stack. `they're d==================================================\n",
      "Итерация #: 29\n",
      "Epoch 1/1\n",
      "143504/143504 [==============================] - 47s 328us/step - loss: 0.5702\n",
      "Генерация из посева: quite jump\n",
      "quite jumped up and bawled out, `sit down, wo line to see the hatter went on, `you throw them she her furrowin==================================================\n",
      "Итерация #: 30\n",
      "Epoch 1/1\n",
      "143504/143504 [==============================] - 47s 330us/step - loss: 0.5482\n",
      "Генерация из посева:  down that\n",
      " down that makes them so shiny she sat down and looked along the baby at her as she spoke. alice had been bore==================================================\n",
      "Итерация #: 31\n",
      "Epoch 1/1\n",
      "143504/143504 [==============================] - 48s 332us/step - loss: 0.5290\n",
      "Генерация из посева: onsultatio\n",
      "onsultation with a little sharply bowk encaide times over to beefo the gares, the endly me thourh his a mouse ==================================================\n",
      "Итерация #: 32\n",
      "Epoch 1/1\n",
      "143504/143504 [==============================] - 48s 335us/step - loss: 0.5091\n",
      "Генерация из посева: manner, sm\n",
      "manner, smiling at everything i've got to grow up again!  let me see--how is it to be true--\" that's the quest==================================================\n",
      "Итерация #: 33\n",
      "Epoch 1/1\n",
      "143504/143504 [==============================] - 47s 331us/step - loss: 0.4919\n",
      "Генерация из посева:  as yet ha\n",
      " as yet had any disper two a find of the table, but there was nothing better to see the hatter. `no, they're a==================================================\n",
      "Итерация #: 34\n",
      "Epoch 1/1\n",
      "143504/143504 [==============================] - 47s 331us/step - loss: 0.4755\n",
      "Генерация из посева: '; and thi\n",
      "'; and this alice thought it would be wasting our breath.\" \"i'll be judging of little bit of story one about i==================================================\n",
      "Итерация #: 35\n",
      "Epoch 1/1\n",
      "143504/143504 [==============================] - 48s 333us/step - loss: 0.4605\n",
      "Генерация из посева: d another \n",
      "d another of the sort. `well, i can't see you?'  she was saying, and she said to herself, and nebbly his sime ==================================================\n",
      "Итерация #: 36\n",
      "Epoch 1/1\n",
      "143504/143504 [==============================] - 47s 329us/step - loss: 0.4470\n",
      "Генерация из посева: easts and \n",
      "easts and other little thing sat dyes, and she had never had to do such a thing before, and behind it was cert==================================================\n",
      "Итерация #: 37\n",
      "Epoch 1/1\n",
      "143504/143504 [==============================] - 47s 327us/step - loss: 0.4333\n",
      "Генерация из посева: oup of the\n",
      "oup of the evening, beautiful soup!  belawh to beautify is, i suppose?' said alice very humbly in childrabs an==================================================\n",
      "Итерация #: 38\n",
      "Epoch 1/1\n",
      "143504/143504 [==============================] - 48s 332us/step - loss: 0.4217\n",
      "Генерация из посева: she conclu\n",
      "she concluded the gumbled the garee, whe had feet on she heard a little before she had this fit--\"  you one ha==================================================\n",
      "Итерация #: 39\n",
      "Epoch 1/1\n",
      "143504/143504 [==============================] - 47s 329us/step - loss: 0.4099\n",
      "Генерация из посева: hat stood \n",
      "hat stood near the door, and the moon, and me the list of the pack of cards!' at this moment the ceesabler whe==================================================\n",
      "Итерация #: 40\n",
      "Epoch 1/1\n",
      "143504/143504 [==============================] - 47s 327us/step - loss: 0.4007\n",
      "Генерация из посева: ay through\n",
      "ay through the door, she found she had never heard of uglifying!' exicuedess, then they was looking at the coo==================================================\n",
      "Итерация #: 41\n",
      "Epoch 1/1\n",
      "143504/143504 [==============================] - 47s 329us/step - loss: 0.3911\n",
      "Генерация из посева: e tale was\n",
      "e tale was so ordered about in the world you fly, like a telescope!' the knove this, and alice could hear the ==================================================\n",
      "Итерация #: 42\n",
      "Epoch 1/1\n",
      "143504/143504 [==============================] - 47s 328us/step - loss: 0.3826\n",
      "Генерация из посева: t altered.\n",
      "t altered.' `it is wrong for a moment to think this a good opportunity of saying to herself, `i don't think--'==================================================\n",
      "Итерация #: 43\n",
      "Epoch 1/1\n",
      "143504/143504 [==============================] - 48s 332us/step - loss: 0.3755\n",
      "Генерация из посева: own from t\n",
      "own from the shock of being all alone here!' as she said the mouse to alice, and she sat down again very sadly==================================================\n",
      "Итерация #: 44\n",
      "Epoch 1/1\n",
      "143504/143504 [==============================] - 47s 325us/step - loss: 0.3687\n",
      "Генерация из посева: d help me \n",
      "d help me out of this tome somebody ought to be a book written about like them und.  surh a little before she ==================================================\n",
      "Итерация #: 45\n",
      "Epoch 1/1\n",
      "143504/143504 [==============================] - 47s 329us/step - loss: 0.3616\n",
      "Генерация из посева:  quite a c\n",
      " quite a commotion in the caperas, with a sudden leap out of the way to hear the rabbit was still in thiid to ==================================================\n",
      "Итерация #: 46\n",
      "Epoch 1/1\n",
      "143504/143504 [==============================] - 47s 327us/step - loss: 0.3571\n",
      "Генерация из посева: will hear \n",
      "will hear you!  you see, as they walked off together. `that was trickling down her flamingo, and began singing==================================================\n",
      "Итерация #: 47\n",
      "Epoch 1/1\n",
      "143504/143504 [==============================] - 47s 327us/step - loss: 0.3518\n",
      "Генерация из посева:  of the wh\n",
      " of the whot?  peepersing then i've something wasn't done about it, you know.  come on!' and ran the faster, w==================================================\n",
      "Итерация #: 48\n",
      "Epoch 1/1\n",
      "143504/143504 [==============================] - 47s 329us/step - loss: 0.3470\n",
      "Генерация из посева: adn't drun\n",
      "adn't drunk and, my feaddrobst culious the door and found that her neck when they had to pinch it to make it s==================================================\n",
      "Итерация #: 49\n",
      "Epoch 1/1\n",
      "143504/143504 [==============================] - 47s 328us/step - loss: 0.3435\n",
      "Генерация из посева: lked two a\n",
      "lked two and two, as the soldiers had to double themselves flat upon their faces, and then said, `it was a cur\n"
     ]
    }
   ],
   "source": [
    "# выполнение серий тренировочных и демонстрационных итераций \n",
    "for iteration in range(NUM_ITERATIONS):\n",
    "\n",
    "    # для каждой итерации запуск передачи данных в модель \n",
    "    print(\"=\" * 50)\n",
    "    print(\"Итерация #: %d\" % (iteration))\n",
    "    model.fit(X, y, batch_size=BATCH_SIZE, epochs=NUM_EPOCHS_PER_ITERATION)\n",
    "\n",
    "    # Select a random example input sequence.\n",
    "    test_idx = np.random.randint(len(input_chars))\n",
    "    test_chars = input_chars[test_idx]\n",
    "\n",
    "    # для числа шагов предсказаний использование текущей тренируемой модели \n",
    "    # конструирование one-hot encoding для тестирования input и добавление предсказания.\n",
    "    print(\"Генерация из посева: %s\" % (test_chars))\n",
    "    print(test_chars, end=\"\")\n",
    "    for i in range(NUM_PREDS_PER_EPOCH):\n",
    "\n",
    "        # здесь one-hot encoding.\n",
    "        X_test = np.zeros((1, SEQLEN, nb_chars))\n",
    "        for j, ch in enumerate(test_chars):\n",
    "            X_test[0, j, char2index[ch]] = 1\n",
    "\n",
    "        # осуществление предсказания с помощью текущей модели.\n",
    "        pred = model.predict(X_test, verbose=0)[0]\n",
    "        y_pred = index2char[np.argmax(pred)]\n",
    "\n",
    "        # вывод предсказания добавленного к тестовому примеру \n",
    "        print(y_pred, end=\"\")\n",
    "\n",
    "        # инкрементация тестового примера содержащего предсказание\n",
    "        test_chars = test_chars[1:] + y_pred\n",
    "print()\n"
   ]
  },
  {
   "cell_type": "markdown",
   "metadata": {},
   "source": [
    "it is wrong for a moment to think this a good opportunity of saying to herself, i don't think"
   ]
  },
  {
   "cell_type": "markdown",
   "metadata": {},
   "source": [
    "Были изменены BATCH_SIZE, HIDDEN_SIZE = 256, 256. Кол-во итераций поднято до 50"
   ]
  }
 ],
 "metadata": {
  "kernelspec": {
   "display_name": "Python 3",
   "language": "python",
   "name": "python3"
  },
  "language_info": {
   "codemirror_mode": {
    "name": "ipython",
    "version": 3
   },
   "file_extension": ".py",
   "mimetype": "text/x-python",
   "name": "python",
   "nbconvert_exporter": "python",
   "pygments_lexer": "ipython3",
   "version": "3.7.6"
  }
 },
 "nbformat": 4,
 "nbformat_minor": 4
}
